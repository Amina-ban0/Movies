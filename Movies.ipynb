{
 "cells": [
  {
   "cell_type": "code",
   "execution_count": 1,
   "metadata": {},
   "outputs": [],
   "source": [
    "import sqlite3 as sql"
   ]
  },
  {
   "cell_type": "code",
   "execution_count": 2,
   "metadata": {},
   "outputs": [],
   "source": [
    "connection = sql.connect(\"DatabaseMovie.db\")"
   ]
  },
  {
   "cell_type": "code",
   "execution_count": 3,
   "metadata": {},
   "outputs": [],
   "source": [
    "pointer = connection.cursor()"
   ]
  },
  {
   "cell_type": "code",
   "execution_count": 4,
   "metadata": {},
   "outputs": [
    {
     "data": {
      "text/plain": [
       "<sqlite3.Cursor at 0x1a750466ea0>"
      ]
     },
     "execution_count": 4,
     "metadata": {},
     "output_type": "execute_result"
    }
   ],
   "source": [
    "pointer = connection.cursor()\n",
    "pointer.execute(\"CREATE TABLE IF NOT EXISTS MOVIES( NAME TEXT, ACTOR TEXT, ACTRESS TEXT,DIRECTOR_NAME TEXT, YEAR INTEGER )\")\n",
    "pointer.execute(\"INSERT INTO MOVIES VALUES('P.K','Anushka Sharma','Aamir Khan','Rajkumar Hirani',2018)\")\n",
    "pointer.execute(\"INSERT INTO MOVIES VALUES('Wanted','Salman Khan','Ayesha Takia','Prabhu Deva.',2009)\")\n",
    "pointer.execute(\"INSERT INTO MOVIES VALUES('Black Panther','TChalla','Okoye','Ryan Coogler',2018)\")\n",
    "pointer.execute(\"INSERT INTO MOVIES VALUES('Transformers','Shia LaBeouf','Meghan Fox','Michael Bay',2007)\")\n",
    "pointer.execute(\"INSERT INTO MOVIES VALUES('Spider-Man: No Way Home','Tom Holland','Zendaya','Jon Watts',2021)\")"
   ]
  },
  {
   "cell_type": "code",
   "execution_count": 5,
   "metadata": {},
   "outputs": [
    {
     "name": "stdout",
     "output_type": "stream",
     "text": [
      "All in the database\n",
      "P.K\t\tAnushka Sharma\t\tAamir Khan\t\tRajkumar Hirani\t\t2018\n",
      "============================================================================================\n",
      "Wanted\t\tSalman Khan\t\tAyesha Takia\t\tPrabhu Deva.\t\t2009\n",
      "============================================================================================\n",
      "Black Panther\t\tTChalla\t\tOkoye\t\tRyan Coogler\t\t2018\n",
      "============================================================================================\n",
      "Transformers\t\tShia LaBeouf\t\tMeghan Fox\t\tMichael Bay\t\t2007\n",
      "============================================================================================\n",
      "Spider-Man: No Way Home\t\tTom Holland\t\tZendaya\t\tJon Watts\t\t2021\n",
      "============================================================================================\n"
     ]
    }
   ],
   "source": [
    "# Printing all the elements of the database \n",
    "print(\"All in the database\")\n",
    "allMovies = pointer.execute(\"SELECT * FROM MOVIES\").fetchall()\n",
    "for i in allMovies:\n",
    "  title,actor,actress,director,releasedYear = i\n",
    "  print(\"{t}\\t\\t{a}\\t\\t{ats}\\t\\t{d}\\t\\t{ry}\".format(t=title,a=actor, ats=actress,d=director,ry=releasedYear))\n",
    "  print(\"============================================================================================\")"
   ]
  },
  {
   "cell_type": "code",
   "execution_count": 7,
   "metadata": {},
   "outputs": [
    {
     "name": "stdout",
     "output_type": "stream",
     "text": [
      "Lead Actor\n",
      "Wanted\t\tSalman Khan\t\tAyesha Takia\t\tPrabhu Deva.\t\t2009\n",
      "============================================================================================\n"
     ]
    }
   ],
   "source": [
    "print(\"Lead Actor\")\n",
    "actorQuery = pointer.execute(\"SELECT * FROM MOVIES WHERE ACTOR = 'Salman Khan'\").fetchall()\n",
    "for i in actorQuery:\n",
    "  title,actor,actress,director,releasedYear = i\n",
    "  print(\"{t}\\t\\t{a}\\t\\t{ats}\\t\\t{d}\\t\\t{ry}\".format(t=title,a=actor, ats=actress,d=director,ry=releasedYear))\n",
    "  print(\"============================================================================================\")"
   ]
  },
  {
   "cell_type": "code",
   "execution_count": 13,
   "metadata": {},
   "outputs": [
    {
     "name": "stdout",
     "output_type": "stream",
     "text": [
      "Lead Actress\n",
      "Transformers\t\tShia LaBeouf\t\tMeghan Fox\t\tMichael Bay\t\t2007\n",
      "============================================================================================\n"
     ]
    }
   ],
   "source": [
    "print(\"Lead Actress\")\n",
    "actressQuery = pointer.execute(\"SELECT * FROM MOVIES WHERE ACTRESS = 'Meghan Fox'\").fetchall()\n",
    "for i in actressQuery:\n",
    "  title,actor,actress,director,releasedYear = i\n",
    "  print(\"{t}\\t\\t{a}\\t\\t{ats}\\t\\t{d}\\t\\t{ry}\".format(t=title,a=actor, ats=actress,d=director,ry=releasedYear))\n",
    "  print(\"============================================================================================\")"
   ]
  },
  {
   "cell_type": "code",
   "execution_count": 15,
   "metadata": {},
   "outputs": [
    {
     "name": "stdout",
     "output_type": "stream",
     "text": [
      "Years\n",
      "P.K\t\tAnushka Sharma\t\tAamir Khan\t\tRajkumar Hirani\t\t2018\n",
      "============================================================================================\n",
      "Black Panther\t\tTChalla\t\tOkoye\t\tRyan Coogler\t\t2018\n",
      "============================================================================================\n"
     ]
    }
   ],
   "source": [
    "print(\"Years\")\n",
    "Year = pointer.execute(\"SELECT * FROM MOVIES WHERE YEAR = '2018'\").fetchall()\n",
    "for i in Year:\n",
    "  title,actor,actress,director,releasedYear = i\n",
    "  print(\"{t}\\t\\t{a}\\t\\t{ats}\\t\\t{d}\\t\\t{ry}\".format(t=title,a=actor, ats=actress,d=director,ry=releasedYear))\n",
    "  print(\"============================================================================================\")"
   ]
  },
  {
   "cell_type": "code",
   "execution_count": 32,
   "metadata": {},
   "outputs": [
    {
     "name": "stdout",
     "output_type": "stream",
     "text": [
      "All The Actress\n"
     ]
    }
   ],
   "source": [
    "print(\"All The Actress\")\n",
    "AllActress = pointer.execute(\"SELECT * FROM MOVIES WHERE ACTRESS = 'Aamir Khan''Ayesha Takia''Okaye''Meghan Fox''Zendaya'\").fetchall()\n",
    "for i in AllActress:\n",
    "  title,actor,actress,director,releasedYear = i\n",
    "  print(\"{t}\\t\\t{a}\\t\\t{ats}\\t\\t{d}\\t\\t{ry}\".format(t=title,a=actor, ats=actress,d=director,ry=releasedYear))\n",
    "  print(\"============================================================================================\")"
   ]
  },
  {
   "cell_type": "code",
   "execution_count": null,
   "metadata": {},
   "outputs": [],
   "source": []
  }
 ],
 "metadata": {
  "kernelspec": {
   "display_name": "Python 3",
   "language": "python",
   "name": "python3"
  },
  "language_info": {
   "codemirror_mode": {
    "name": "ipython",
    "version": 3
   },
   "file_extension": ".py",
   "mimetype": "text/x-python",
   "name": "python",
   "nbconvert_exporter": "python",
   "pygments_lexer": "ipython3",
   "version": "3.8.3"
  }
 },
 "nbformat": 4,
 "nbformat_minor": 4
}
